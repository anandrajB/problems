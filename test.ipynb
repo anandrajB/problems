{
 "cells": [
  {
   "cell_type": "code",
   "execution_count": null,
   "metadata": {},
   "outputs": [],
   "source": [
    "from typing import Any\n",
    "\n",
    "\n",
    "class FancyTuple:\n",
    "    def __init__(self, *params):\n",
    "        self.params = params\n",
    "\n",
    "    def __len__(self):\n",
    "        return len(self.params)\n",
    "\n",
    "    \n",
    "    def __getattr__(self, name):\n",
    "        base = ['first', 'second', 'third', 'fourth', 'fifth']\n",
    "        if name in base:\n",
    "            index = base.index(name)\n",
    "            if index < len(self.params):\n",
    "                return self.params[index]\n",
    "            raise AttributeError(f\"Index {index} is out of range\")\n",
    "        raise AttributeError(f\"'FancyTuple' object has no attribute '{name}'\")\n",
    "\n",
    "    def __str__(self):\n",
    "        return str(self.params)\n",
    "    \n",
    "    def __repr__(self):\n",
    "        return f\"FancyTuple{self.params}\"\n",
    "\n",
    "\n",
    "params = ['dog', 'cat', 'cow']\n",
    "ds = FancyTuple(*params)\n",
    "print(ds.first)    # prints: dog\n",
    "print(ds.second)   # prints: cat\n",
    "print(len(ds))     # prints: 3\n",
    "\n",
    "\n"
   ]
  },
  {
   "cell_type": "code",
   "execution_count": null,
   "metadata": {},
   "outputs": [],
   "source": [
    "class Solution:\n",
    "    def lengthOfLongestSubstring(self, s: str) -> int:\n",
    "        char_index = {}\n",
    "        left = 0\n",
    "        max_length = 0\n",
    "        \n",
    "        for item , char in enumerate(s):\n",
    "            if char in char_index:\n",
    "                left = max(left ,char_index[char] + 1)\n",
    "            char_index[char] = item\n",
    "            max_length = max(max_length, item - left + 1)\n",
    "        return max_length\n",
    "\n",
    "\n",
    "ds = Solution()\n",
    "print(ds.lengthOfLongestSubstring(\"abcabcbb\"))"
   ]
  },
  {
   "cell_type": "code",
   "execution_count": null,
   "metadata": {},
   "outputs": [],
   "source": [
    "class Solution:\n",
    "    def climbStairs(self, n: int) -> int:\n",
    "        if n == 0 or n == 1:\n",
    "            return 1\n",
    "        prev, curr = 1, 1\n",
    "        for i in range(2, n + 1):\n",
    "            temp = curr\n",
    "            curr = prev + curr\n",
    "            prev = temp\n",
    "            print(\"the curr\" , curr)\n",
    "        return curr\n",
    "\n",
    "\n",
    "Solution().climbStairs(n=4)\n"
   ]
  },
  {
   "cell_type": "code",
   "execution_count": null,
   "metadata": {},
   "outputs": [],
   "source": [
    "def fibonacci(n: int | None = ...) -> int:\n",
    "\n",
    "    if n <= 1:\n",
    "        return n\n",
    "    return fibonacci(n - 1) + fibonacci(n - 2)\n",
    "\n",
    "fibonacci(n=8)\n"
   ]
  },
  {
   "cell_type": "code",
   "execution_count": null,
   "metadata": {},
   "outputs": [],
   "source": [
    "from typing import Optional\n",
    "from collections import deque\n",
    "\n",
    "\n",
    "class TreeNode:\n",
    "    def __init__(self, val=0, left=None, right=None):\n",
    "        self.val = val\n",
    "        self.left = left\n",
    "        self.right = right\n",
    "\n",
    "\n",
    "class Solution:\n",
    "    def widthOfBinaryTree(self, root: Optional[TreeNode]) -> int:\n",
    "        if not root:\n",
    "            return 0\n",
    "\n",
    "        queue = deque([(root, 0)])\n",
    "\n",
    "        max_width = 0\n",
    "       \n",
    "        while queue:\n",
    "            level_size = len(queue)\n",
    "            level_start = queue[0][1]\n",
    "\n",
    "            for _ in range(level_size):\n",
    "                node, index = queue.popleft()\n",
    "\n",
    "                if node.left:\n",
    "                    queue.append((node.left, 2 * index))\n",
    "                if node.right:\n",
    "                    queue.append((node.right, 2 * index + 1))\n",
    "\n",
    "            max_width = max(max_width, index - level_start + 1)\n",
    "\n",
    "        return max_width\n",
    "\n",
    "\n",
    "root = TreeNode(1)\n",
    "root.left = TreeNode(3)\n",
    "root.right = TreeNode(2)\n",
    "root.left.left = TreeNode(5)\n",
    "root.left.right = TreeNode(3)\n",
    "root.right.right = TreeNode(9)\n",
    "\n",
    "solution = Solution()\n",
    "print(solution.widthOfBinaryTree(root))\n"
   ]
  },
  {
   "cell_type": "code",
   "execution_count": null,
   "metadata": {},
   "outputs": [],
   "source": [
    "from typing import List\n",
    "class Solution:\n",
    "    def maxSubArray(self, nums: List[int]) -> int:\n",
    "        if not nums:\n",
    "            return 0\n",
    "        max_sum = float('-inf')\n",
    "        current_sum = 0\n",
    "        for num in nums:\n",
    "            current_sum = max(num , current_sum + num)\n",
    "            max_sum = max(current_sum , max_sum)\n",
    "        return max_sum\n",
    "\n",
    "\n",
    "Solution().maxSubArray([-2,1,-3,4,-1,2,1,-5,4])"
   ]
  },
  {
   "cell_type": "code",
   "execution_count": null,
   "metadata": {},
   "outputs": [],
   "source": [
    "from typing import Optional\n",
    "from collections import deque\n",
    "\n",
    "\n",
    "class Node:\n",
    "    def __init__(self, val=0, left=None, right=None):\n",
    "        self.val = val\n",
    "        self.left = left\n",
    "        self.right = right\n",
    "\n",
    "\n",
    "class Solution:\n",
    "\n",
    "\n",
    "    def max_widht_of_Bt(self , node):\n",
    "        if not node :\n",
    "            return 0\n",
    "\n",
    "        queue = deque([(node, 0)])\n",
    "        max_width = 0\n",
    "\n",
    "        while queue:\n",
    "            lenth = len(queue)\n",
    "            _ , first_pos = queue[0]\n",
    "            _,last_pos = queue[-1]\n",
    "\n",
    "            max_width = max(max_width, last_pos - first_pos + 1)\n",
    "\n",
    "            for _ in range(lenth):\n",
    "                node , pos = queue.popleft()\n",
    "                if node.left:\n",
    "                    queue.append((node.left, 2 * pos))\n",
    "                if node.right:\n",
    "                    queue.append((node.right, 2 * pos + 1))\n",
    "        return max_width\n",
    "    \n",
    "root = Node(1)\n",
    "root.left = Node(2)\n",
    "root.right = Node(3)\n",
    "root.left.left = Node(4)\n",
    "root.left.right = Node(5)\n",
    "root.right.right = Node(8)\n",
    "root.right.right.left = Node(6)\n",
    "root.right.right.right = Node(7)\n",
    "\n",
    "solution = Solution()\n",
    "print(solution.max_widht_of_Bt(root))\n"
   ]
  },
  {
   "cell_type": "code",
   "execution_count": null,
   "metadata": {},
   "outputs": [],
   "source": [
    "from collections import defaultdict, deque\n",
    "from typing import List\n",
    "\n",
    "class Solution:\n",
    "    def canFinish(self, numCourses: int, prerequisites: List[List[int]]) -> bool:\n",
    "        # Step 1: Build the graph and compute in-degrees\n",
    "        graph = defaultdict(list)\n",
    "        in_degree = [0] * (numCourses)\n",
    "        print(\"the graph\" ,graph)\n",
    "        for course, pre in prerequisites:\n",
    "            graph[pre].append(course)\n",
    "            in_degree[course] += 1\n",
    "        \n",
    "        # Step 2: Initialize queue with courses having in-degree 0\n",
    "        queue = deque([i for i in range(numCourses) if in_degree[i] == 0])\n",
    "        processed_courses = 0\n",
    "        \n",
    "        # Step 3: Process the queue\n",
    "        while queue:\n",
    "            course = queue.popleft()\n",
    "            processed_courses += 1\n",
    "            \n",
    "            for neighbor in graph[course]:\n",
    "                in_degree[neighbor] -= 1\n",
    "                if in_degree[neighbor] == 0:\n",
    "                    queue.append(neighbor)\n",
    "        \n",
    "        # Step 4: Check if all courses were processed\n",
    "        return processed_courses == numCourses\n",
    "\n",
    "# Example usage\n",
    "numCourses = 2\n",
    "prerequisites = [[1, 0]]\n",
    "solution = Solution()\n",
    "print(solution.canFinish(numCourses, prerequisites))  # Output: True\n"
   ]
  },
  {
   "cell_type": "code",
   "execution_count": 23,
   "metadata": {},
   "outputs": [
    {
     "data": {
      "text/plain": [
       "3"
      ]
     },
     "execution_count": 23,
     "metadata": {},
     "output_type": "execute_result"
    }
   ],
   "source": [
    "#Longest Substring Without Repeating Characters\n",
    "\n",
    "\n",
    "\n",
    "def longest(s):\n",
    "    seen = {}\n",
    "    left = max_len = 0\n",
    "    for right , char in enumerate(s):\n",
    "        if char in seen and seen[char] >= left:\n",
    "            left = seen[char] + 1\n",
    "        seen[char] = right \n",
    "        max_len = max(max_len , right - left + 1)\n",
    "\n",
    "    return max_len  \n",
    "\n",
    "s = \"abcabcbb\"\n",
    "\n",
    "longest(s)"
   ]
  },
  {
   "cell_type": "code",
   "execution_count": null,
   "metadata": {},
   "outputs": [],
   "source": [
    "class AlternatingList:\n",
    "\n",
    "    def __init__(self, seq):\n",
    "        self.seq = seq\n",
    "        self.length = len(seq)\n",
    "\n",
    "    def __iter__(self):\n",
    "        for i in range(self.length // 2):\n",
    "            yield self.seq[i]\n",
    "            yield self.seq[-(i + 1)]\n",
    "        if self.length % 2 != 0:\n",
    "            yield self.seq[self.length // 2]\n",
    "\n",
    "  \n",
    "\n",
    "seq = \"1 2 3 4\"\n",
    "w = AlternatingList(seq)\n",
    "\n",
    "data = []\n",
    "for e in w:\n",
    "    if e.isdigit():\n",
    "        data.append(e)\n",
    "\n",
    "print(data)"
   ]
  },
  {
   "cell_type": "code",
   "execution_count": 103,
   "metadata": {},
   "outputs": [
    {
     "name": "stdout",
     "output_type": "stream",
     "text": [
      "{'missing': {2, 4, 7}, 'repeated': [3], 'outbound': [-2, 12, 0]}\n"
     ]
    }
   ],
   "source": [
    "def find_missing_repeated_out_of_bounds(arr, N):\n",
    "    seen = set()\n",
    "    outbound = []\n",
    "    repeated = []\n",
    "   \n",
    "    for num in arr:\n",
    "        if num > N or num < 1:\n",
    "            outbound.append(num)\n",
    "        elif num in seen:\n",
    "            repeated.append(num)\n",
    "\n",
    "        seen.add(num)\n",
    "   \n",
    "    return {\n",
    "        \"missing\" : set(range(1, N)) - seen,\n",
    "        \"repeated\" : sorted(repeated),\n",
    "        \"outbound\" : outbound\n",
    "    }\n",
    "\n",
    "arr = [3, 5, 6, 8, 9, 1, 3, -2, 12, 0]\n",
    "N = 10\n",
    "result = find_missing_repeated_out_of_bounds(arr, N)\n",
    "print(result)"
   ]
  },
  {
   "cell_type": "code",
   "execution_count": null,
   "metadata": {},
   "outputs": [
    {
     "name": "stdout",
     "output_type": "stream",
     "text": [
      "Pair found at indices: [0, 1]\n"
     ]
    }
   ],
   "source": [
    "def find_pair_with_sum(arr, target):\n",
    "    seen = {}\n",
    "    \n",
    "    for index,  num in enumerate(arr):\n",
    "        compliment = target - num\n",
    "        if compliment in seen :\n",
    "            return [seen[compliment], index]\n",
    "        seen[num] = index\n",
    "    return None\n",
    "\n",
    "# Example usage\n",
    "arr = [2, 7, 4, 15]\n",
    "target = 9\n",
    "result = find_pair_with_sum(arr, target)\n",
    "\n",
    "if result != -1:\n",
    "    print(f\"Pair found at indices: {result}\")\n",
    "else:\n",
    "    print(\"No pair found\")"
   ]
  },
  {
   "cell_type": "code",
   "execution_count": null,
   "metadata": {},
   "outputs": [],
   "source": []
  },
  {
   "cell_type": "code",
   "execution_count": 92,
   "metadata": {},
   "outputs": [
    {
     "name": "stdout",
     "output_type": "stream",
     "text": [
      "2\n"
     ]
    }
   ],
   "source": [
    "from typing import List\n",
    "from collections import defaultdict\n",
    "\n",
    "class Solution:\n",
    "    def maxOperations(self, nums: List[int], k: int) -> int:\n",
    "        count = defaultdict(int)\n",
    "        result = 0\n",
    "        \n",
    "        for num in nums:\n",
    "            complement = k - num\n",
    "            if count[complement] > 0:\n",
    "                result += 1  \n",
    "                count[complement] -= 1  # Use one occurrence of the complement\n",
    "            else:\n",
    "                count[num] += 1  \n",
    "        \n",
    "        return result\n",
    "\n",
    "# Example usage\n",
    "solution = Solution()\n",
    "nums = [1, 2, 3, 4]\n",
    "k = 5\n",
    "print(solution.maxOperations(nums, k))  # Output: 2 (pairs: (1,4) and (2,3))"
   ]
  },
  {
   "cell_type": "code",
   "execution_count": null,
   "metadata": {},
   "outputs": [],
   "source": [
    "import re\n",
    "\n",
    "def are_anagrams(s1, s2):\n",
    "    s1_normalized = re.sub(r'[^a-zA-Z]', '', s1).lower()\n",
    "    s2_normalized = re.sub(r'[^a-zA-Z]', '', s2).lower()\n",
    "\n",
    "    s1_states = ''.join(char.lower() for char in s1 if char.isalpha())\n",
    "    s2_states = ''.join(char.lower() for char in s2 if char.isalpha())\n",
    "    \n",
    "    def check_frequency(text):\n",
    "        found = {}\n",
    "        for item in text:\n",
    "            if item in found:\n",
    "                found[item] += 1\n",
    "            else:\n",
    "                found[item] = 1\n",
    "        return found\n",
    "\n",
    "    return check_frequency(s1_states) == check_frequency(s2_states)\n",
    "    # return sorted(s1_normalized) == sorted(s2_normalized)\n",
    "\n",
    "# Test cases\n",
    "print(are_anagrams(\"Listen\", \"Silent\"))  # True\n",
    "print(are_anagrams(\"Hello, World!\", \"dlroW olleH\"))  # True\n",
    "print(are_anagrams(\"Python\", \"Java\"))  # False"
   ]
  },
  {
   "cell_type": "code",
   "execution_count": null,
   "metadata": {},
   "outputs": [],
   "source": [
    "class Solution:\n",
    "    def findMissingAndRepeatedValues(self, grid: List[List[int]]) -> List[int]:\n",
    "        n = len(grid)\n",
    "        nums = {i for i in range(1, n * n + 1)}\n",
    "        res = []\n",
    "        for i in range(n):\n",
    "            for j in range(n):\n",
    "                if grid[i][j] in nums:\n",
    "                    nums.remove(grid[i][j])\n",
    "                else:\n",
    "                    res.append(grid[i][j])\n",
    "        return res + [list(nums)[0]]\n",
    "    \n",
    "\n",
    "solution = Solution()\n",
    "\n",
    "grid = [[1,3],[2,2]]\n",
    "solution.findMissingAndRepeatedValues(grid)"
   ]
  },
  {
   "cell_type": "code",
   "execution_count": 9,
   "metadata": {},
   "outputs": [
    {
     "data": {
      "text/plain": [
       "25"
      ]
     },
     "execution_count": 9,
     "metadata": {},
     "output_type": "execute_result"
    }
   ],
   "source": [
    "\n",
    "from typing import List\n",
    "class Solution:\n",
    "    def diagonalSum(self, mat: List[List[int]]) -> int:\n",
    "        n = len(mat)\n",
    "        length = 0\n",
    "\n",
    "        for i in range(n):\n",
    "            #primary_index = [i][i]\n",
    "            # secondary is [n-1-i][i]\n",
    "            length += mat[i][i]+ mat[n-1-i][i]\n",
    "        if n%2 :\n",
    "            length -= mat[n//2][n//2]\n",
    "        return length\n",
    "solution = Solution()\n",
    "solution.diagonalSum(\n",
    "    mat = [[1,2,3],[4,5,6],[7,8,9]]\n",
    ")"
   ]
  },
  {
   "cell_type": "code",
   "execution_count": 7,
   "metadata": {},
   "outputs": [
    {
     "data": {
      "text/plain": [
       "[4, 3, 2]"
      ]
     },
     "execution_count": 7,
     "metadata": {},
     "output_type": "execute_result"
    }
   ],
   "source": [
    "class Solution:\n",
    "    def RopeCutting(self, arr):\n",
    "        \n",
    "        arr.sort()\n",
    "\n",
    "        result = []\n",
    "        n = len(arr)\n",
    "        for i in range(1, n):\n",
    "            if arr[i] > arr[i-1]:\n",
    "                result.append(n - i)\n",
    "        return result\n",
    "    \n",
    "\n",
    "solution = Solution()\n",
    "solution.RopeCutting(\n",
    "    arr = [5, 1 ,1 ,2 ,3, 5]\n",
    ")"
   ]
  },
  {
   "cell_type": "code",
   "execution_count": 32,
   "metadata": {},
   "outputs": [
    {
     "data": {
      "text/plain": [
       "True"
      ]
     },
     "execution_count": 32,
     "metadata": {},
     "output_type": "execute_result"
    }
   ],
   "source": [
    "def repeatedSubstringPattern(str):\n",
    "    return (str in (2*str)[1:-1])\n",
    "\n",
    "\n",
    "\n",
    "repeatedSubstringPattern(\"abab\")\n"
   ]
  },
  {
   "cell_type": "code",
   "execution_count": 49,
   "metadata": {},
   "outputs": [
    {
     "name": "stdout",
     "output_type": "stream",
     "text": [
      "the count 1\n",
      "the count 1\n",
      "the count 4\n",
      "the count 2\n",
      "7\n"
     ]
    }
   ],
   "source": [
    "from collections import Counter\n",
    "class Solution:\n",
    "    def longestPalindrome(self, s: str) -> int:\n",
    "        length = 0\n",
    "        has_odd = False\n",
    "\n",
    "        for count in Counter(s).values():\n",
    "            #  check for even first\n",
    "            print(\"the count\" , count)\n",
    "            length += (count // 2) * 2\n",
    "            if (count % 2) == 1:\n",
    "                has_odd = True\n",
    "\n",
    "        return length + (1 if has_odd else 0)\n",
    "\n",
    "\n",
    "solution = Solution()\n",
    "print(solution.longestPalindrome(\"abccccdd\"))  # Output: 7\n"
   ]
  },
  {
   "cell_type": "code",
   "execution_count": null,
   "metadata": {},
   "outputs": [
    {
     "name": "stdout",
     "output_type": "stream",
     "text": [
      "1\n",
      "6\n",
      " \n",
      " \n",
      "2\n",
      "4\n",
      " \n",
      " \n",
      "3\n"
     ]
    }
   ],
   "source": [
    "class AlternatingList:\n",
    "\n",
    "    def __init__(self, seq):\n",
    "        self.seq = seq\n",
    "        self.length = len(seq)\n",
    "\n",
    "    def __iter__(self):\n",
    "        for i in range(self.length // 2):\n",
    "            yield self.seq[i]\n",
    "            yield self.seq[-(i + 1)]\n",
    "        if self.length % 2 == 1:\n",
    "            yield self.seq[self.length // 2]\n",
    "\n",
    "\n",
    "seq = \"1 2 3 4 6\"\n",
    "w = AlternatingList(seq)\n",
    "for item in w :\n",
    "    print(item)\n",
    "\n"
   ]
  },
  {
   "cell_type": "code",
   "execution_count": 67,
   "metadata": {},
   "outputs": [
    {
     "name": "stdout",
     "output_type": "stream",
     "text": [
      "1\n"
     ]
    }
   ],
   "source": [
    "# smallesst subsring\n",
    "\n",
    "\n",
    "def substring(n, arr):\n",
    "    if n == 0:\n",
    "        return 0\n",
    "\n",
    "    # Find the minimum and maximum values\n",
    "    min_val = min(arr)\n",
    "    max_val = max(arr)\n",
    "\n",
    "    # If min and max are same, return 1\n",
    "    if min_val == max_val:\n",
    "        return 1\n",
    "\n",
    "    min_index = -1\n",
    "    max_index = -1\n",
    "    result = n\n",
    "\n",
    "    # Iterate through array\n",
    "    for i in range(n):\n",
    "        if arr[i] == min_val:\n",
    "            min_index = i\n",
    "            # If we have found a max before this min\n",
    "            if max_index != -1:\n",
    "                result = min(result, abs(max_index - min_index) + 1)\n",
    "\n",
    "        if arr[i] == max_val:\n",
    "            max_index = i\n",
    "            # If we have found a min before this max\n",
    "            if min_index != -1:\n",
    "                result = min(result, abs(max_index - min_index) + 1)\n",
    "\n",
    "    return result\n",
    "\n",
    "\n",
    "# Example usage:\n",
    "n = 1\n",
    "arr = [1, 5, 10, 7, 1, 9, 4]\n",
    "print(substring(n, arr))"
   ]
  },
  {
   "cell_type": "code",
   "execution_count": null,
   "metadata": {},
   "outputs": [
    {
     "data": {
      "text/plain": [
       "[[1], [1, 2], [1, 2, 3], [2], [2, 3], [3]]"
      ]
     },
     "execution_count": 7,
     "metadata": {},
     "output_type": "execute_result"
    }
   ],
   "source": [
    "def make_subarray(s):\n",
    "    subarray = []\n",
    "    n = len(s)\n",
    "    for start in range(n):\n",
    "        for end in range(start , n ):\n",
    "            subarray.append(s[start:end +1])\n",
    "        # for end in range(start , n):\n",
    "        #     subarray.append(s[start:end+1])\n",
    "    return subarray\n",
    "\n",
    "s = [1,2,3]\n",
    "\n",
    "make_subarray(s)"
   ]
  },
  {
   "cell_type": "code",
   "execution_count": 2,
   "metadata": {},
   "outputs": [
    {
     "name": "stdout",
     "output_type": "stream",
     "text": [
      "the length is  0\n",
      "the length is  0\n",
      "the length is  2\n",
      "the length is  1\n",
      "7\n"
     ]
    }
   ],
   "source": [
    "from collections import Counter\n",
    "\n",
    "s = \"abccccdd\"\n",
    "ds = None\n",
    "length = 0\n",
    "has_odd = 0\n",
    "for count in Counter(s).values():\n",
    "    \n",
    "    length += (count // 2) * 2\n",
    "    if count % 2 == 1:\n",
    "        has_odd = 1\n",
    "\n",
    "    ds = length + has_odd\n",
    "\n",
    "\n",
    "print(ds)"
   ]
  }
 ],
 "metadata": {
  "kernelspec": {
   "display_name": "Python 3",
   "language": "python",
   "name": "python3"
  },
  "language_info": {
   "codemirror_mode": {
    "name": "ipython",
    "version": 3
   },
   "file_extension": ".py",
   "mimetype": "text/x-python",
   "name": "python",
   "nbconvert_exporter": "python",
   "pygments_lexer": "ipython3",
   "version": "3.11.4"
  }
 },
 "nbformat": 4,
 "nbformat_minor": 2
}
